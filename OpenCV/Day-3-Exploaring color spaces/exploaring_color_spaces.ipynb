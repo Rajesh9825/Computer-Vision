{
 "cells": [
  {
   "cell_type": "code",
   "execution_count": 3,
   "id": "443cea6c",
   "metadata": {},
   "outputs": [],
   "source": [
    "import cv2"
   ]
  },
  {
   "cell_type": "code",
   "execution_count": null,
   "id": "23c461fe",
   "metadata": {},
   "outputs": [],
   "source": [
    "bgr_image = cv2.imread(\"./mountain.jpg\")  # It is an BGR image but after passing through imshow or  imwrite it will show image into RGB format\n",
    "cv2.imshow(\"bgr_image\",bgr_image)\n",
    "cv2.waitKey(0)\n",
    "cv2.destroyAllWindows()"
   ]
  },
  {
   "cell_type": "code",
   "execution_count": 5,
   "id": "c22b90dc",
   "metadata": {},
   "outputs": [
    {
     "data": {
      "text/plain": [
       "True"
      ]
     },
     "execution_count": 5,
     "metadata": {},
     "output_type": "execute_result"
    }
   ],
   "source": [
    "# convert to grayscale\n",
    "gray_image = cv2.cvtColor(bgr_image,cv2.COLOR_BGR2GRAY)\n",
    "cv2.imwrite(\"./gray_image.jpg\",gray_image)"
   ]
  },
  {
   "cell_type": "code",
   "execution_count": 6,
   "id": "2ca8aeca",
   "metadata": {},
   "outputs": [
    {
     "data": {
      "text/plain": [
       "True"
      ]
     },
     "execution_count": 6,
     "metadata": {},
     "output_type": "execute_result"
    }
   ],
   "source": [
    "# Convert to HSV\n",
    "hsv_image = cv2.cvtColor(bgr_image,cv2.COLOR_BGR2HSV)\n",
    "cv2.imwrite(\"./hsv_image.jpg\",hsv_image)"
   ]
  },
  {
   "cell_type": "code",
   "execution_count": null,
   "id": "fb5d56e0",
   "metadata": {},
   "outputs": [
    {
     "data": {
      "text/plain": [
       "True"
      ]
     },
     "execution_count": 10,
     "metadata": {},
     "output_type": "execute_result"
    }
   ],
   "source": [
    "# Convert to LAB\n",
    "lab_image = cv2.cvtColor(bgr_image,cv2.COLOR_BGR2LAB)\n",
    "cv2.imwrite(\"./lab_image.jpg\",lab_image)"
   ]
  },
  {
   "cell_type": "code",
   "execution_count": null,
   "id": "3e88ffa1",
   "metadata": {},
   "outputs": [
    {
     "data": {
      "text/plain": [
       "True"
      ]
     },
     "execution_count": 12,
     "metadata": {},
     "output_type": "execute_result"
    }
   ],
   "source": [
    "# Convert to RGB\n",
    "rgb_image = cv2.cvtColor(bgr_image,cv2.COLOR_BGR2RGB) # this RGB image # but after passing through imwrite it will give us BGR image.\n",
    "cv2.imwrite(\"./bgr_image.jpg\",rgb_image)  # here you get bgr iamge as output but backend rgb image\n",
    "\n",
    "# so basically RGB image is \n",
    "cv2.imwrite(\"./rgb_image.jpg\",bgr_image) # here you get rgb image as output but backend bgr image."
   ]
  },
  {
   "cell_type": "code",
   "execution_count": null,
   "id": "7086b023",
   "metadata": {},
   "outputs": [],
   "source": []
  }
 ],
 "metadata": {
  "kernelspec": {
   "display_name": "Python 3",
   "language": "python",
   "name": "python3"
  },
  "language_info": {
   "codemirror_mode": {
    "name": "ipython",
    "version": 3
   },
   "file_extension": ".py",
   "mimetype": "text/x-python",
   "name": "python",
   "nbconvert_exporter": "python",
   "pygments_lexer": "ipython3",
   "version": "3.12.4"
  }
 },
 "nbformat": 4,
 "nbformat_minor": 5
}
